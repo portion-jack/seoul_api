{
 "cells": [
  {
   "cell_type": "code",
   "execution_count": 124,
   "metadata": {
    "collapsed": true,
    "pycharm": {
     "name": "#%%\n"
    }
   },
   "outputs": [],
   "source": [
    "import pandas as pd\n",
    "import requests\n",
    "from bs4 import BeautifulSoup\n",
    "import xmltodict\n",
    "from __myapi__ import *\n",
    "\n",
    "location_list=['강남 MICE 관광특구', '동대문 관광특구', '명동 관광특구', '이태원 관광특구']\n",
    "               '잠실 관광특구', '종로·청계 관광특구', '홍대 관광특구', '경복궁·서촌마을', '광화문·덕수궁', '창덕궁·종묘',\n",
    "               '가산디지털단지역', '강남역', '건대입구역', '고속터미널역', '교대역', '구로디지털단지역', '서울역', '선릉역',\n",
    "               '신도림역', '신림역', '신촌·이대역', '역삼역', '연신내역', '용산역', '왕십리역',\n",
    "               'DMC(디지털미디어시티)', '창동 신경제 중심지', '노량진', '낙산공원·이화마을', '북촌한옥마을', '가로수길',\n",
    "               '성수카페거리', '수유리 먹자골목', '쌍문동 맛집거리', '압구정로데오거리', '여의도', '영등포 타임스퀘어', '인사동·익선동',\n",
    "               '국립중앙박물관·용산가족공원', '남산공원', '뚝섬한강공원', '망원한강공원', '반포한강공원', '북서울꿈의숲', '서울대공원',\n",
    "               '서울숲공원', '월드컵공원', '이촌한강공원', '잠실종합운동장', '잠실한강공원']\n",
    "\n",
    "attrs = ['live_ppltn_stts','road_traffic_stts', 'prk_stts', 'sub_stts', 'bus_stn_stts', 'sbike_stts', 'weather_stts']\n",
    "\n",
    "api_key = my_api()\n",
    "\n",
    "response = requests.get(f\"http://openapi.seoul.go.kr:8088/{api_key}/xml/citydata/1/5/{location}\")\n",
    "\n",
    "\n",
    "def response2df(_response,_attr):\n",
    "    soup=BeautifulSoup(response.content,\"lxml\")\n",
    "    attr_xml=soup.find('citydata').find(_attr)\n",
    "    attr_dict = xmltodict.parse(str(attr_xml))[_attr]\n",
    "    try:\n",
    "        return pd.DataFrame(attr_dict[_attr])\n",
    "    except:\n",
    "        return pd.DataFrame(attr_dict)\n",
    "\n",
    "info_by_loc= list()\n",
    "\n",
    "for location in location_list:\n",
    "    _list=list()\n",
    "    response = requests.get(f\"http://openapi.seoul.go.kr:8088/{api_key}/xml/citydata/1/5/{location}\")\n",
    "    for attr in attrs:\n",
    "        _list.append(response2df(response,attr))\n",
    "    info_by_loc.append(_list)\n"
   ]
  }
 ],
 "metadata": {
  "kernelspec": {
   "display_name": "Python 3.9.6 64-bit",
   "language": "python",
   "name": "python3"
  },
  "language_info": {
   "codemirror_mode": {
    "name": "ipython",
    "version": 2
   },
   "file_extension": ".py",
   "mimetype": "text/x-python",
   "name": "python",
   "nbconvert_exporter": "python",
   "pygments_lexer": "ipython2",
   "version": "3.9.6"
  },
  "vscode": {
   "interpreter": {
    "hash": "31f2aee4e71d21fbe5cf8b01ff0e069b9275f58929596ceb00d14d90e3e16cd6"
   }
  }
 },
 "nbformat": 4,
 "nbformat_minor": 0
}
